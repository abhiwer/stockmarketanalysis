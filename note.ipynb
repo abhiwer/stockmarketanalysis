{
 "cells": [
  {
   "cell_type": "code",
   "execution_count": 1,
   "metadata": {},
   "outputs": [],
   "source": [
    "import pandas as pd"
   ]
  },
  {
   "cell_type": "code",
   "execution_count": 2,
   "metadata": {},
   "outputs": [],
   "source": [
    "df = pd.read_csv(\"BTC-USD.csv\")"
   ]
  },
  {
   "cell_type": "code",
   "execution_count": 3,
   "metadata": {},
   "outputs": [
    {
     "data": {
      "text/html": [
       "<div>\n",
       "<style scoped>\n",
       "    .dataframe tbody tr th:only-of-type {\n",
       "        vertical-align: middle;\n",
       "    }\n",
       "\n",
       "    .dataframe tbody tr th {\n",
       "        vertical-align: top;\n",
       "    }\n",
       "\n",
       "    .dataframe thead th {\n",
       "        text-align: right;\n",
       "    }\n",
       "</style>\n",
       "<table border=\"1\" class=\"dataframe\">\n",
       "  <thead>\n",
       "    <tr style=\"text-align: right;\">\n",
       "      <th></th>\n",
       "      <th>Date</th>\n",
       "      <th>Open</th>\n",
       "      <th>High</th>\n",
       "      <th>Low</th>\n",
       "      <th>Close</th>\n",
       "      <th>Adj Close</th>\n",
       "      <th>Volume</th>\n",
       "    </tr>\n",
       "  </thead>\n",
       "  <tbody>\n",
       "    <tr>\n",
       "      <th>0</th>\n",
       "      <td>2014-09-17</td>\n",
       "      <td>465.864014</td>\n",
       "      <td>468.174011</td>\n",
       "      <td>452.421997</td>\n",
       "      <td>457.334015</td>\n",
       "      <td>457.334015</td>\n",
       "      <td>21056800</td>\n",
       "    </tr>\n",
       "    <tr>\n",
       "      <th>1</th>\n",
       "      <td>2014-09-18</td>\n",
       "      <td>456.859985</td>\n",
       "      <td>456.859985</td>\n",
       "      <td>413.104004</td>\n",
       "      <td>424.440002</td>\n",
       "      <td>424.440002</td>\n",
       "      <td>34483200</td>\n",
       "    </tr>\n",
       "    <tr>\n",
       "      <th>2</th>\n",
       "      <td>2014-09-19</td>\n",
       "      <td>424.102997</td>\n",
       "      <td>427.834991</td>\n",
       "      <td>384.532013</td>\n",
       "      <td>394.795990</td>\n",
       "      <td>394.795990</td>\n",
       "      <td>37919700</td>\n",
       "    </tr>\n",
       "    <tr>\n",
       "      <th>3</th>\n",
       "      <td>2014-09-20</td>\n",
       "      <td>394.673004</td>\n",
       "      <td>423.295990</td>\n",
       "      <td>389.882996</td>\n",
       "      <td>408.903992</td>\n",
       "      <td>408.903992</td>\n",
       "      <td>36863600</td>\n",
       "    </tr>\n",
       "    <tr>\n",
       "      <th>4</th>\n",
       "      <td>2014-09-21</td>\n",
       "      <td>408.084991</td>\n",
       "      <td>412.425995</td>\n",
       "      <td>393.181000</td>\n",
       "      <td>398.821014</td>\n",
       "      <td>398.821014</td>\n",
       "      <td>26580100</td>\n",
       "    </tr>\n",
       "    <tr>\n",
       "      <th>...</th>\n",
       "      <td>...</td>\n",
       "      <td>...</td>\n",
       "      <td>...</td>\n",
       "      <td>...</td>\n",
       "      <td>...</td>\n",
       "      <td>...</td>\n",
       "      <td>...</td>\n",
       "    </tr>\n",
       "    <tr>\n",
       "      <th>2735</th>\n",
       "      <td>2022-03-14</td>\n",
       "      <td>37846.316406</td>\n",
       "      <td>39742.500000</td>\n",
       "      <td>37680.734375</td>\n",
       "      <td>39666.753906</td>\n",
       "      <td>39666.753906</td>\n",
       "      <td>24322159070</td>\n",
       "    </tr>\n",
       "    <tr>\n",
       "      <th>2736</th>\n",
       "      <td>2022-03-15</td>\n",
       "      <td>39664.250000</td>\n",
       "      <td>39794.628906</td>\n",
       "      <td>38310.210938</td>\n",
       "      <td>39338.785156</td>\n",
       "      <td>39338.785156</td>\n",
       "      <td>23934000868</td>\n",
       "    </tr>\n",
       "    <tr>\n",
       "      <th>2737</th>\n",
       "      <td>2022-03-16</td>\n",
       "      <td>39335.570313</td>\n",
       "      <td>41465.453125</td>\n",
       "      <td>39022.347656</td>\n",
       "      <td>41143.929688</td>\n",
       "      <td>41143.929688</td>\n",
       "      <td>39616916192</td>\n",
       "    </tr>\n",
       "    <tr>\n",
       "      <th>2738</th>\n",
       "      <td>2022-03-17</td>\n",
       "      <td>41140.843750</td>\n",
       "      <td>41287.535156</td>\n",
       "      <td>40662.871094</td>\n",
       "      <td>40951.378906</td>\n",
       "      <td>40951.378906</td>\n",
       "      <td>22009601093</td>\n",
       "    </tr>\n",
       "    <tr>\n",
       "      <th>2739</th>\n",
       "      <td>2022-03-18</td>\n",
       "      <td>40912.628906</td>\n",
       "      <td>42195.746094</td>\n",
       "      <td>40319.796875</td>\n",
       "      <td>41702.593750</td>\n",
       "      <td>41702.593750</td>\n",
       "      <td>33465370624</td>\n",
       "    </tr>\n",
       "  </tbody>\n",
       "</table>\n",
       "<p>2740 rows × 7 columns</p>\n",
       "</div>"
      ],
      "text/plain": [
       "            Date          Open          High           Low         Close  \\\n",
       "0     2014-09-17    465.864014    468.174011    452.421997    457.334015   \n",
       "1     2014-09-18    456.859985    456.859985    413.104004    424.440002   \n",
       "2     2014-09-19    424.102997    427.834991    384.532013    394.795990   \n",
       "3     2014-09-20    394.673004    423.295990    389.882996    408.903992   \n",
       "4     2014-09-21    408.084991    412.425995    393.181000    398.821014   \n",
       "...          ...           ...           ...           ...           ...   \n",
       "2735  2022-03-14  37846.316406  39742.500000  37680.734375  39666.753906   \n",
       "2736  2022-03-15  39664.250000  39794.628906  38310.210938  39338.785156   \n",
       "2737  2022-03-16  39335.570313  41465.453125  39022.347656  41143.929688   \n",
       "2738  2022-03-17  41140.843750  41287.535156  40662.871094  40951.378906   \n",
       "2739  2022-03-18  40912.628906  42195.746094  40319.796875  41702.593750   \n",
       "\n",
       "         Adj Close       Volume  \n",
       "0       457.334015     21056800  \n",
       "1       424.440002     34483200  \n",
       "2       394.795990     37919700  \n",
       "3       408.903992     36863600  \n",
       "4       398.821014     26580100  \n",
       "...            ...          ...  \n",
       "2735  39666.753906  24322159070  \n",
       "2736  39338.785156  23934000868  \n",
       "2737  41143.929688  39616916192  \n",
       "2738  40951.378906  22009601093  \n",
       "2739  41702.593750  33465370624  \n",
       "\n",
       "[2740 rows x 7 columns]"
      ]
     },
     "execution_count": 3,
     "metadata": {},
     "output_type": "execute_result"
    }
   ],
   "source": [
    "df"
   ]
  },
  {
   "cell_type": "code",
   "execution_count": 4,
   "metadata": {},
   "outputs": [
    {
     "data": {
      "text/html": [
       "<div>\n",
       "<style scoped>\n",
       "    .dataframe tbody tr th:only-of-type {\n",
       "        vertical-align: middle;\n",
       "    }\n",
       "\n",
       "    .dataframe tbody tr th {\n",
       "        vertical-align: top;\n",
       "    }\n",
       "\n",
       "    .dataframe thead th {\n",
       "        text-align: right;\n",
       "    }\n",
       "</style>\n",
       "<table border=\"1\" class=\"dataframe\">\n",
       "  <thead>\n",
       "    <tr style=\"text-align: right;\">\n",
       "      <th></th>\n",
       "      <th>Date</th>\n",
       "      <th>Open</th>\n",
       "      <th>High</th>\n",
       "      <th>Low</th>\n",
       "      <th>Close</th>\n",
       "      <th>Adj Close</th>\n",
       "      <th>Volume</th>\n",
       "    </tr>\n",
       "  </thead>\n",
       "  <tbody>\n",
       "    <tr>\n",
       "      <th>0</th>\n",
       "      <td>2014-09-17</td>\n",
       "      <td>465.864014</td>\n",
       "      <td>468.174011</td>\n",
       "      <td>452.421997</td>\n",
       "      <td>457.334015</td>\n",
       "      <td>457.334015</td>\n",
       "      <td>21056800</td>\n",
       "    </tr>\n",
       "    <tr>\n",
       "      <th>1</th>\n",
       "      <td>2014-09-18</td>\n",
       "      <td>456.859985</td>\n",
       "      <td>456.859985</td>\n",
       "      <td>413.104004</td>\n",
       "      <td>424.440002</td>\n",
       "      <td>424.440002</td>\n",
       "      <td>34483200</td>\n",
       "    </tr>\n",
       "    <tr>\n",
       "      <th>2</th>\n",
       "      <td>2014-09-19</td>\n",
       "      <td>424.102997</td>\n",
       "      <td>427.834991</td>\n",
       "      <td>384.532013</td>\n",
       "      <td>394.795990</td>\n",
       "      <td>394.795990</td>\n",
       "      <td>37919700</td>\n",
       "    </tr>\n",
       "    <tr>\n",
       "      <th>3</th>\n",
       "      <td>2014-09-20</td>\n",
       "      <td>394.673004</td>\n",
       "      <td>423.295990</td>\n",
       "      <td>389.882996</td>\n",
       "      <td>408.903992</td>\n",
       "      <td>408.903992</td>\n",
       "      <td>36863600</td>\n",
       "    </tr>\n",
       "    <tr>\n",
       "      <th>4</th>\n",
       "      <td>2014-09-21</td>\n",
       "      <td>408.084991</td>\n",
       "      <td>412.425995</td>\n",
       "      <td>393.181000</td>\n",
       "      <td>398.821014</td>\n",
       "      <td>398.821014</td>\n",
       "      <td>26580100</td>\n",
       "    </tr>\n",
       "  </tbody>\n",
       "</table>\n",
       "</div>"
      ],
      "text/plain": [
       "         Date        Open        High         Low       Close   Adj Close  \\\n",
       "0  2014-09-17  465.864014  468.174011  452.421997  457.334015  457.334015   \n",
       "1  2014-09-18  456.859985  456.859985  413.104004  424.440002  424.440002   \n",
       "2  2014-09-19  424.102997  427.834991  384.532013  394.795990  394.795990   \n",
       "3  2014-09-20  394.673004  423.295990  389.882996  408.903992  408.903992   \n",
       "4  2014-09-21  408.084991  412.425995  393.181000  398.821014  398.821014   \n",
       "\n",
       "     Volume  \n",
       "0  21056800  \n",
       "1  34483200  \n",
       "2  37919700  \n",
       "3  36863600  \n",
       "4  26580100  "
      ]
     },
     "execution_count": 4,
     "metadata": {},
     "output_type": "execute_result"
    }
   ],
   "source": [
    "df.head()"
   ]
  },
  {
   "cell_type": "code",
   "execution_count": 5,
   "metadata": {},
   "outputs": [
    {
     "data": {
      "text/html": [
       "<div>\n",
       "<style scoped>\n",
       "    .dataframe tbody tr th:only-of-type {\n",
       "        vertical-align: middle;\n",
       "    }\n",
       "\n",
       "    .dataframe tbody tr th {\n",
       "        vertical-align: top;\n",
       "    }\n",
       "\n",
       "    .dataframe thead th {\n",
       "        text-align: right;\n",
       "    }\n",
       "</style>\n",
       "<table border=\"1\" class=\"dataframe\">\n",
       "  <thead>\n",
       "    <tr style=\"text-align: right;\">\n",
       "      <th></th>\n",
       "      <th>Date</th>\n",
       "      <th>Open</th>\n",
       "      <th>High</th>\n",
       "      <th>Low</th>\n",
       "      <th>Close</th>\n",
       "      <th>Adj Close</th>\n",
       "      <th>Volume</th>\n",
       "    </tr>\n",
       "  </thead>\n",
       "  <tbody>\n",
       "    <tr>\n",
       "      <th>2735</th>\n",
       "      <td>2022-03-14</td>\n",
       "      <td>37846.316406</td>\n",
       "      <td>39742.500000</td>\n",
       "      <td>37680.734375</td>\n",
       "      <td>39666.753906</td>\n",
       "      <td>39666.753906</td>\n",
       "      <td>24322159070</td>\n",
       "    </tr>\n",
       "    <tr>\n",
       "      <th>2736</th>\n",
       "      <td>2022-03-15</td>\n",
       "      <td>39664.250000</td>\n",
       "      <td>39794.628906</td>\n",
       "      <td>38310.210938</td>\n",
       "      <td>39338.785156</td>\n",
       "      <td>39338.785156</td>\n",
       "      <td>23934000868</td>\n",
       "    </tr>\n",
       "    <tr>\n",
       "      <th>2737</th>\n",
       "      <td>2022-03-16</td>\n",
       "      <td>39335.570313</td>\n",
       "      <td>41465.453125</td>\n",
       "      <td>39022.347656</td>\n",
       "      <td>41143.929688</td>\n",
       "      <td>41143.929688</td>\n",
       "      <td>39616916192</td>\n",
       "    </tr>\n",
       "    <tr>\n",
       "      <th>2738</th>\n",
       "      <td>2022-03-17</td>\n",
       "      <td>41140.843750</td>\n",
       "      <td>41287.535156</td>\n",
       "      <td>40662.871094</td>\n",
       "      <td>40951.378906</td>\n",
       "      <td>40951.378906</td>\n",
       "      <td>22009601093</td>\n",
       "    </tr>\n",
       "    <tr>\n",
       "      <th>2739</th>\n",
       "      <td>2022-03-18</td>\n",
       "      <td>40912.628906</td>\n",
       "      <td>42195.746094</td>\n",
       "      <td>40319.796875</td>\n",
       "      <td>41702.593750</td>\n",
       "      <td>41702.593750</td>\n",
       "      <td>33465370624</td>\n",
       "    </tr>\n",
       "  </tbody>\n",
       "</table>\n",
       "</div>"
      ],
      "text/plain": [
       "            Date          Open          High           Low         Close  \\\n",
       "2735  2022-03-14  37846.316406  39742.500000  37680.734375  39666.753906   \n",
       "2736  2022-03-15  39664.250000  39794.628906  38310.210938  39338.785156   \n",
       "2737  2022-03-16  39335.570313  41465.453125  39022.347656  41143.929688   \n",
       "2738  2022-03-17  41140.843750  41287.535156  40662.871094  40951.378906   \n",
       "2739  2022-03-18  40912.628906  42195.746094  40319.796875  41702.593750   \n",
       "\n",
       "         Adj Close       Volume  \n",
       "2735  39666.753906  24322159070  \n",
       "2736  39338.785156  23934000868  \n",
       "2737  41143.929688  39616916192  \n",
       "2738  40951.378906  22009601093  \n",
       "2739  41702.593750  33465370624  "
      ]
     },
     "execution_count": 5,
     "metadata": {},
     "output_type": "execute_result"
    }
   ],
   "source": [
    "df.tail()"
   ]
  },
  {
   "cell_type": "code",
   "execution_count": 7,
   "metadata": {},
   "outputs": [
    {
     "data": {
      "text/plain": [
       "0         457.334015\n",
       "1         424.440002\n",
       "2         394.795990\n",
       "3         408.903992\n",
       "4         398.821014\n",
       "            ...     \n",
       "2735    39666.753906\n",
       "2736    39338.785156\n",
       "2737    41143.929688\n",
       "2738    40951.378906\n",
       "2739    41702.593750\n",
       "Name: Close, Length: 2740, dtype: float64"
      ]
     },
     "execution_count": 7,
     "metadata": {},
     "output_type": "execute_result"
    }
   ],
   "source": [
    "df1=df.reset_index()['Close']\n",
    "df1"
   ]
  },
  {
   "cell_type": "code",
   "execution_count": 8,
   "metadata": {},
   "outputs": [
    {
     "data": {
      "text/plain": [
       "[<matplotlib.lines.Line2D at 0x1b3a050b860>]"
      ]
     },
     "execution_count": 8,
     "metadata": {},
     "output_type": "execute_result"
    },
    {
     "data": {
      "image/png": "[encoded data removed]",
      "text/plain": [
       "<Figure size 432x288 with 1 Axes>"
      ]
     },
     "metadata": {
      "needs_background": "light"
     },
     "output_type": "display_data"
    }
   ],
   "source": [
    "import matplotlib.pyplot as plt\n",
    "plt.plot(df1)"
   ]
  },
  {
   "cell_type": "code",
   "execution_count": 9,
   "metadata": {},
   "outputs": [],
   "source": [
    "import numpy as np"
   ]
  },
  {
   "cell_type": "code",
   "execution_count": 10,
   "metadata": {},
   "outputs": [
    {
     "data": {
      "text/plain": [
       "0         457.334015\n",
       "1         424.440002\n",
       "2         394.795990\n",
       "3         408.903992\n",
       "4         398.821014\n",
       "            ...     \n",
       "2735    39666.753906\n",
       "2736    39338.785156\n",
       "2737    41143.929688\n",
       "2738    40951.378906\n",
       "2739    41702.593750\n",
       "Name: Close, Length: 2740, dtype: float64"
      ]
     },
     "execution_count": 10,
     "metadata": {},
     "output_type": "execute_result"
    }
   ],
   "source": [
    "df1"
   ]
  },
  {
   "cell_type": "code",
   "execution_count": 11,
   "metadata": {},
   "outputs": [],
   "source": [
    "from sklearn.preprocessing import MinMaxScaler\n",
    "scaler=MinMaxScaler(feature_range=(0,1))\n",
    "df1=scaler.fit_transform(np.array(df1).reshape(-1,1))"
   ]
  },
  {
   "cell_type": "code",
   "execution_count": 12,
   "metadata": {},
   "outputs": [
    {
     "name": "stdout",
     "output_type": "stream",
     "text": [
      "[[0.00414359]\n",
      " [0.00365546]\n",
      " [0.00321557]\n",
      " ...\n",
      " [0.60790327]\n",
      " [0.60504596]\n",
      " [0.61619345]]\n"
     ]
    }
   ],
   "source": [
    "print(df1)"
   ]
  },
  {
   "cell_type": "code",
   "execution_count": 13,
   "metadata": {},
   "outputs": [],
   "source": [
    "##splitting dataset into train and test split\n",
    "training_size=int(len(df1)*0.65)\n",
    "test_size=len(df1)-training_size\n",
    "train_data,test_data=df1[0:training_size,:],df1[training_size:len(df1),:1]"
   ]
  },
  {
   "cell_type": "code",
   "execution_count": 14,
   "metadata": {},
   "outputs": [
    {
     "data": {
      "text/plain": [
       "(1781, 959)"
      ]
     },
     "execution_count": 14,
     "metadata": {},
     "output_type": "execute_result"
    }
   ],
   "source": [
    "training_size,test_size"
   ]
  },
  {
   "cell_type": "code",
   "execution_count": 15,
   "metadata": {},
   "outputs": [
    {
     "data": {
      "text/plain": [
       "array([[0.00414359],\n",
       "       [0.00365546],\n",
       "       [0.00321557],\n",
       "       ...,\n",
       "       [0.14702051],\n",
       "       [0.15168065],\n",
       "       [0.1534392 ]])"
      ]
     },
     "execution_count": 15,
     "metadata": {},
     "output_type": "execute_result"
    }
   ],
   "source": [
    "train_data"
   ]
  },
  {
   "cell_type": "code",
   "execution_count": 16,
   "metadata": {},
   "outputs": [],
   "source": [
    "import numpy\n",
    "# convert an array of values into a dataset matrix\n",
    "def create_dataset(dataset, time_step=1):\n",
    "\tdataX, dataY = [], []\n",
    "\tfor i in range(len(dataset)-time_step-1):\n",
    "\t\ta = dataset[i:(i+time_step), 0]   ###i=0, 0,1,2,3-----99   100 \n",
    "\t\tdataX.append(a)\n",
    "\t\tdataY.append(dataset[i + time_step, 0])\n",
    "\treturn numpy.array(dataX), numpy.array(dataY)"
   ]
  },
  {
   "cell_type": "code",
   "execution_count": 17,
   "metadata": {},
   "outputs": [],
   "source": [
    "# reshape into X=t,t+1,t+2,t+3 and Y=t+4\n",
    "time_step = 100\n",
    "X_train, y_train = create_dataset(train_data, time_step)\n",
    "X_test, ytest = create_dataset(test_data, time_step)"
   ]
  },
  {
   "cell_type": "code",
   "execution_count": 18,
   "metadata": {},
   "outputs": [
    {
     "name": "stdout",
     "output_type": "stream",
     "text": [
      "(1680, 100)\n",
      "(1680,)\n"
     ]
    },
    {
     "data": {
      "text/plain": [
       "(None, None)"
      ]
     },
     "execution_count": 18,
     "metadata": {},
     "output_type": "execute_result"
    }
   ],
   "source": [
    "print(X_train.shape), print(y_train.shape)"
   ]
  },
  {
   "cell_type": "code",
   "execution_count": 19,
   "metadata": {},
   "outputs": [
    {
     "name": "stdout",
     "output_type": "stream",
     "text": [
      "(858, 100)\n",
      "(858,)\n"
     ]
    },
    {
     "data": {
      "text/plain": [
       "(None, None)"
      ]
     },
     "execution_count": 19,
     "metadata": {},
     "output_type": "execute_result"
    }
   ],
   "source": [
    "print(X_test.shape), print(ytest.shape)"
   ]
  },
  {
   "cell_type": "code",
   "execution_count": 20,
   "metadata": {},
   "outputs": [],
   "source": [
    "# reshape input to be [samples, time steps, features] which is required for LSTM\n",
    "X_train =X_train.reshape(X_train.shape[0],X_train.shape[1] , 1)\n",
    "X_test = X_test.reshape(X_test.shape[0],X_test.shape[1] , 1)"
   ]
  },
  {
   "cell_type": "code",
   "execution_count": 21,
   "metadata": {},
   "outputs": [],
   "source": [
    "### Create the Stacked LSTM model\n",
    "from tensorflow.keras.models import Sequential\n",
    "from tensorflow.keras.layers import Dense\n",
    "from tensorflow.keras.layers import LSTM"
   ]
  },
  {
   "cell_type": "code",
   "execution_count": 22,
   "metadata": {},
   "outputs": [],
   "source": [
    "model=Sequential()\n",
    "model.add(LSTM(50,return_sequences=True,input_shape=(100,1)))\n",
    "model.add(LSTM(50,return_sequences=True))\n",
    "model.add(LSTM(50))\n",
    "model.add(Dense(1))\n",
    "model.compile(loss='mean_squared_error',optimizer='adam')"
   ]
  },
  {
   "cell_type": "code",
   "execution_count": 23,
   "metadata": {},
   "outputs": [
    {
     "name": "stdout",
     "output_type": "stream",
     "text": [
      "Model: \"sequential\"\n",
      "_________________________________________________________________\n",
      " Layer (type)                Output Shape              Param #   \n",
      "=================================================================\n",
      " lstm (LSTM)                 (None, 100, 50)           10400     \n",
      "                                                                 \n",
      " lstm_1 (LSTM)               (None, 100, 50)           20200     \n",
      "                                                                 \n",
      " lstm_2 (LSTM)               (None, 50)                20200     \n",
      "                                                                 \n",
      " dense (Dense)               (None, 1)                 51        \n",
      "                                                                 \n",
      "=================================================================\n",
      "Total params: 50,851\n",
      "Trainable params: 50,851\n",
      "Non-trainable params: 0\n",
      "_________________________________________________________________\n"
     ]
    }
   ],
   "source": [
    "model.summary()"
   ]
  },
  {
   "cell_type": "code",
   "execution_count": 24,
   "metadata": {},
   "outputs": [
    {
     "name": "stdout",
     "output_type": "stream",
     "text": [
      "Epoch 1/100\n",
      "27/27 [==============================] - 14s 101ms/step - loss: 0.0013 - val_loss: 0.0087\n",
      "Epoch 2/100\n",
      "27/27 [==============================] - 1s 38ms/step - loss: 2.0286e-04 - val_loss: 0.0093\n",
      "Epoch 3/100\n",
      "27/27 [==============================] - 1s 39ms/step - loss: 1.5598e-04 - val_loss: 0.0055\n",
      "Epoch 4/100\n",
      "27/27 [==============================] - 1s 36ms/step - loss: 1.4238e-04 - val_loss: 0.0091\n",
      "Epoch 5/100\n",
      "27/27 [==============================] - 1s 38ms/step - loss: 1.2428e-04 - val_loss: 0.0127\n",
      "Epoch 6/100\n",
      "27/27 [==============================] - 1s 37ms/step - loss: 1.1506e-04 - val_loss: 0.0096\n",
      "Epoch 7/100\n",
      "27/27 [==============================] - 1s 36ms/step - loss: 1.1106e-04 - val_loss: 0.0177\n",
      "Epoch 8/100\n",
      "27/27 [==============================] - 1s 36ms/step - loss: 9.9071e-05 - val_loss: 0.0185\n",
      "Epoch 9/100\n",
      "27/27 [==============================] - 1s 36ms/step - loss: 9.4356e-05 - val_loss: 0.0300\n",
      "Epoch 10/100\n",
      "27/27 [==============================] - 1s 36ms/step - loss: 1.1126e-04 - val_loss: 0.0300\n",
      "Epoch 11/100\n",
      "27/27 [==============================] - 1s 37ms/step - loss: 9.2964e-05 - val_loss: 0.0206\n",
      "Epoch 12/100\n",
      "27/27 [==============================] - 1s 37ms/step - loss: 8.5667e-05 - val_loss: 0.0194\n",
      "Epoch 13/100\n",
      "27/27 [==============================] - 1s 38ms/step - loss: 9.2870e-05 - val_loss: 0.0168\n",
      "Epoch 14/100\n",
      "27/27 [==============================] - 1s 40ms/step - loss: 9.8075e-05 - val_loss: 0.0198\n",
      "Epoch 15/100\n",
      "27/27 [==============================] - 1s 37ms/step - loss: 9.3721e-05 - val_loss: 0.0145\n",
      "Epoch 16/100\n",
      "27/27 [==============================] - 1s 38ms/step - loss: 8.5048e-05 - val_loss: 0.0175\n",
      "Epoch 17/100\n",
      "27/27 [==============================] - 1s 39ms/step - loss: 7.2601e-05 - val_loss: 0.0126\n",
      "Epoch 18/100\n",
      "27/27 [==============================] - 1s 36ms/step - loss: 7.4782e-05 - val_loss: 0.0156\n",
      "Epoch 19/100\n",
      "27/27 [==============================] - 1s 38ms/step - loss: 7.5292e-05 - val_loss: 0.0115\n",
      "Epoch 20/100\n",
      "27/27 [==============================] - 1s 38ms/step - loss: 7.2387e-05 - val_loss: 0.0117\n",
      "Epoch 21/100\n",
      "27/27 [==============================] - 1s 37ms/step - loss: 6.9346e-05 - val_loss: 0.0179\n",
      "Epoch 22/100\n",
      "27/27 [==============================] - 1s 37ms/step - loss: 8.4782e-05 - val_loss: 0.0125\n",
      "Epoch 23/100\n",
      "27/27 [==============================] - 1s 36ms/step - loss: 6.4491e-05 - val_loss: 0.0153\n",
      "Epoch 24/100\n",
      "27/27 [==============================] - 1s 39ms/step - loss: 6.7925e-05 - val_loss: 0.0081\n",
      "Epoch 25/100\n",
      "27/27 [==============================] - 1s 36ms/step - loss: 6.2366e-05 - val_loss: 0.0119\n",
      "Epoch 26/100\n",
      "27/27 [==============================] - 1s 37ms/step - loss: 6.4676e-05 - val_loss: 0.0134\n",
      "Epoch 27/100\n",
      "27/27 [==============================] - 1s 37ms/step - loss: 7.0717e-05 - val_loss: 0.0103\n",
      "Epoch 28/100\n",
      "27/27 [==============================] - 1s 36ms/step - loss: 6.5159e-05 - val_loss: 0.0103\n",
      "Epoch 29/100\n",
      "27/27 [==============================] - 1s 36ms/step - loss: 5.9680e-05 - val_loss: 0.0074\n",
      "Epoch 30/100\n",
      "27/27 [==============================] - 1s 37ms/step - loss: 5.7396e-05 - val_loss: 0.0148\n",
      "Epoch 31/100\n",
      "27/27 [==============================] - 1s 37ms/step - loss: 5.8741e-05 - val_loss: 0.0066\n",
      "Epoch 32/100\n",
      "27/27 [==============================] - 1s 38ms/step - loss: 5.6684e-05 - val_loss: 0.0073\n",
      "Epoch 33/100\n",
      "27/27 [==============================] - 1s 36ms/step - loss: 6.0440e-05 - val_loss: 0.0086\n",
      "Epoch 34/100\n",
      "27/27 [==============================] - 1s 38ms/step - loss: 5.4039e-05 - val_loss: 0.0071\n",
      "Epoch 35/100\n",
      "27/27 [==============================] - 1s 36ms/step - loss: 5.3378e-05 - val_loss: 0.0063\n",
      "Epoch 36/100\n",
      "27/27 [==============================] - 1s 37ms/step - loss: 5.0905e-05 - val_loss: 0.0079\n",
      "Epoch 37/100\n",
      "27/27 [==============================] - 1s 36ms/step - loss: 4.7235e-05 - val_loss: 0.0109\n",
      "Epoch 38/100\n",
      "27/27 [==============================] - 1s 36ms/step - loss: 5.1592e-05 - val_loss: 0.0097\n",
      "Epoch 39/100\n",
      "27/27 [==============================] - 1s 37ms/step - loss: 5.4586e-05 - val_loss: 0.0073\n",
      "Epoch 40/100\n",
      "27/27 [==============================] - 1s 37ms/step - loss: 4.9150e-05 - val_loss: 0.0070\n",
      "Epoch 41/100\n",
      "27/27 [==============================] - 1s 35ms/step - loss: 5.0808e-05 - val_loss: 0.0045\n",
      "Epoch 42/100\n",
      "27/27 [==============================] - 1s 38ms/step - loss: 5.3708e-05 - val_loss: 0.0054\n",
      "Epoch 43/100\n",
      "27/27 [==============================] - 1s 37ms/step - loss: 5.5138e-05 - val_loss: 0.0063\n",
      "Epoch 44/100\n",
      "27/27 [==============================] - 1s 41ms/step - loss: 5.3389e-05 - val_loss: 0.0043\n",
      "Epoch 45/100\n",
      "27/27 [==============================] - 1s 35ms/step - loss: 4.7602e-05 - val_loss: 0.0068\n",
      "Epoch 46/100\n",
      "27/27 [==============================] - 1s 35ms/step - loss: 4.5763e-05 - val_loss: 0.0072\n",
      "Epoch 47/100\n",
      "27/27 [==============================] - 1s 37ms/step - loss: 4.5955e-05 - val_loss: 0.0090\n",
      "Epoch 48/100\n",
      "27/27 [==============================] - 1s 37ms/step - loss: 4.6175e-05 - val_loss: 0.0076\n",
      "Epoch 49/100\n",
      "27/27 [==============================] - 1s 39ms/step - loss: 5.2486e-05 - val_loss: 0.0082\n",
      "Epoch 50/100\n",
      "27/27 [==============================] - 1s 36ms/step - loss: 4.6114e-05 - val_loss: 0.0077\n",
      "Epoch 51/100\n",
      "27/27 [==============================] - 1s 37ms/step - loss: 4.3401e-05 - val_loss: 0.0060\n",
      "Epoch 52/100\n",
      "27/27 [==============================] - 1s 37ms/step - loss: 4.4538e-05 - val_loss: 0.0063\n",
      "Epoch 53/100\n",
      "27/27 [==============================] - 1s 36ms/step - loss: 4.1708e-05 - val_loss: 0.0060\n",
      "Epoch 54/100\n",
      "27/27 [==============================] - 1s 37ms/step - loss: 4.3625e-05 - val_loss: 0.0059\n",
      "Epoch 55/100\n",
      "27/27 [==============================] - 1s 37ms/step - loss: 4.5594e-05 - val_loss: 0.0059\n",
      "Epoch 56/100\n",
      "27/27 [==============================] - 1s 37ms/step - loss: 3.8077e-05 - val_loss: 0.0047\n",
      "Epoch 57/100\n",
      "27/27 [==============================] - 1s 38ms/step - loss: 4.7613e-05 - val_loss: 0.0070\n",
      "Epoch 58/100\n",
      "27/27 [==============================] - 1s 37ms/step - loss: 4.1592e-05 - val_loss: 0.0060\n",
      "Epoch 59/100\n",
      "27/27 [==============================] - 1s 36ms/step - loss: 4.3189e-05 - val_loss: 0.0054\n",
      "Epoch 60/100\n",
      "27/27 [==============================] - 1s 36ms/step - loss: 3.6966e-05 - val_loss: 0.0071\n",
      "Epoch 61/100\n",
      "27/27 [==============================] - 1s 36ms/step - loss: 3.7644e-05 - val_loss: 0.0059\n",
      "Epoch 62/100\n",
      "27/27 [==============================] - 1s 37ms/step - loss: 3.8009e-05 - val_loss: 0.0067\n",
      "Epoch 63/100\n",
      "27/27 [==============================] - 1s 36ms/step - loss: 3.9101e-05 - val_loss: 0.0050\n",
      "Epoch 64/100\n",
      "27/27 [==============================] - 1s 39ms/step - loss: 4.5539e-05 - val_loss: 0.0063\n",
      "Epoch 65/100\n",
      "27/27 [==============================] - 1s 38ms/step - loss: 3.8035e-05 - val_loss: 0.0025\n",
      "Epoch 66/100\n",
      "27/27 [==============================] - 1s 39ms/step - loss: 3.5316e-05 - val_loss: 0.0065\n",
      "Epoch 67/100\n",
      "27/27 [==============================] - 1s 37ms/step - loss: 3.1867e-05 - val_loss: 0.0058\n",
      "Epoch 68/100\n",
      "27/27 [==============================] - 1s 36ms/step - loss: 3.4253e-05 - val_loss: 0.0050\n",
      "Epoch 69/100\n",
      "27/27 [==============================] - 1s 39ms/step - loss: 3.5550e-05 - val_loss: 0.0033\n",
      "Epoch 70/100\n",
      "27/27 [==============================] - 1s 38ms/step - loss: 3.2565e-05 - val_loss: 0.0044\n",
      "Epoch 71/100\n",
      "27/27 [==============================] - 1s 37ms/step - loss: 3.2531e-05 - val_loss: 0.0063\n",
      "Epoch 72/100\n",
      "27/27 [==============================] - 1s 36ms/step - loss: 3.1110e-05 - val_loss: 0.0020\n",
      "Epoch 73/100\n",
      "27/27 [==============================] - 1s 40ms/step - loss: 5.8800e-05 - val_loss: 0.0041\n",
      "Epoch 74/100\n",
      "27/27 [==============================] - 1s 38ms/step - loss: 2.8948e-05 - val_loss: 0.0045\n",
      "Epoch 75/100\n",
      "27/27 [==============================] - 1s 36ms/step - loss: 2.9395e-05 - val_loss: 0.0031\n",
      "Epoch 76/100\n",
      "27/27 [==============================] - 1s 37ms/step - loss: 3.3531e-05 - val_loss: 0.0051\n",
      "Epoch 77/100\n",
      "27/27 [==============================] - 1s 36ms/step - loss: 2.9256e-05 - val_loss: 0.0035\n",
      "Epoch 78/100\n",
      "27/27 [==============================] - 1s 37ms/step - loss: 2.7925e-05 - val_loss: 0.0049\n",
      "Epoch 79/100\n",
      "27/27 [==============================] - 1s 36ms/step - loss: 2.8947e-05 - val_loss: 0.0033\n",
      "Epoch 80/100\n",
      "27/27 [==============================] - 1s 37ms/step - loss: 2.9693e-05 - val_loss: 0.0045\n",
      "Epoch 81/100\n",
      "27/27 [==============================] - 1s 37ms/step - loss: 2.6903e-05 - val_loss: 0.0045\n",
      "Epoch 82/100\n",
      "27/27 [==============================] - 1s 36ms/step - loss: 2.7001e-05 - val_loss: 0.0088\n",
      "Epoch 83/100\n",
      "27/27 [==============================] - 1s 37ms/step - loss: 3.2776e-05 - val_loss: 0.0044\n",
      "Epoch 84/100\n",
      "27/27 [==============================] - 1s 36ms/step - loss: 3.1196e-05 - val_loss: 0.0027\n",
      "Epoch 85/100\n",
      "27/27 [==============================] - 1s 36ms/step - loss: 2.3865e-05 - val_loss: 0.0022\n",
      "Epoch 86/100\n",
      "27/27 [==============================] - 1s 37ms/step - loss: 2.5353e-05 - val_loss: 0.0035\n",
      "Epoch 87/100\n",
      "27/27 [==============================] - 1s 36ms/step - loss: 2.5769e-05 - val_loss: 0.0074\n",
      "Epoch 88/100\n",
      "27/27 [==============================] - 1s 36ms/step - loss: 2.5330e-05 - val_loss: 0.0047\n",
      "Epoch 89/100\n",
      "27/27 [==============================] - 1s 36ms/step - loss: 2.3204e-05 - val_loss: 0.0031\n",
      "Epoch 90/100\n",
      "27/27 [==============================] - 1s 35ms/step - loss: 2.2450e-05 - val_loss: 0.0056\n",
      "Epoch 91/100\n",
      "27/27 [==============================] - 1s 36ms/step - loss: 2.8598e-05 - val_loss: 0.0037\n",
      "Epoch 92/100\n",
      "27/27 [==============================] - 1s 36ms/step - loss: 2.6321e-05 - val_loss: 0.0041\n",
      "Epoch 93/100\n",
      "27/27 [==============================] - 1s 37ms/step - loss: 2.4586e-05 - val_loss: 0.0045\n",
      "Epoch 94/100\n",
      "27/27 [==============================] - 1s 36ms/step - loss: 2.2648e-05 - val_loss: 0.0045\n",
      "Epoch 95/100\n",
      "27/27 [==============================] - 1s 35ms/step - loss: 2.1126e-05 - val_loss: 0.0044\n",
      "Epoch 96/100\n",
      "27/27 [==============================] - 1s 35ms/step - loss: 2.4238e-05 - val_loss: 0.0066\n",
      "Epoch 97/100\n",
      "27/27 [==============================] - 1s 36ms/step - loss: 2.3606e-05 - val_loss: 0.0047\n",
      "Epoch 98/100\n",
      "27/27 [==============================] - 1s 36ms/step - loss: 2.0557e-05 - val_loss: 0.0057\n",
      "Epoch 99/100\n",
      "27/27 [==============================] - 1s 36ms/step - loss: 2.5853e-05 - val_loss: 0.0028\n",
      "Epoch 100/100\n",
      "27/27 [==============================] - 1s 38ms/step - loss: 2.9836e-05 - val_loss: 0.0027\n"
     ]
    },
    {
     "data": {
      "text/plain": [
       "<keras.callbacks.History at 0x1b3d9c4cef0>"
      ]
     },
     "execution_count": 24,
     "metadata": {},
     "output_type": "execute_result"
    }
   ],
   "source": [
    "model.fit(X_train,y_train,validation_data=(X_test,ytest),epochs=100,batch_size=64,verbose=1)"
   ]
  },
  {
   "cell_type": "code",
   "execution_count": 25,
   "metadata": {},
   "outputs": [],
   "source": [
    "import tensorflow as tf"
   ]
  },
  {
   "cell_type": "code",
   "execution_count": 26,
   "metadata": {},
   "outputs": [],
   "source": [
    "### Lets Do the prediction and check performance metrics\n",
    "train_predict=model.predict(X_train)\n",
    "test_predict=model.predict(X_test)"
   ]
  },
  {
   "cell_type": "code",
   "execution_count": 27,
   "metadata": {},
   "outputs": [],
   "source": [
    "##Transformback to original form\n",
    "train_predict=scaler.inverse_transform(train_predict)\n",
    "test_predict=scaler.inverse_transform(test_predict)"
   ]
  },
  {
   "cell_type": "code",
   "execution_count": 28,
   "metadata": {},
   "outputs": [
    {
     "data": {
      "text/plain": [
       "5166.782013706704"
      ]
     },
     "execution_count": 28,
     "metadata": {},
     "output_type": "execute_result"
    }
   ],
   "source": [
    "### Calculate RMSE performance metrics\n",
    "import math\n",
    "from sklearn.metrics import mean_squared_error\n",
    "math.sqrt(mean_squared_error(y_train,train_predict))"
   ]
  },
  {
   "cell_type": "code",
   "execution_count": 29,
   "metadata": {},
   "outputs": [
    {
     "data": {
      "text/plain": [
       "31861.68251294876"
      ]
     },
     "execution_count": 29,
     "metadata": {},
     "output_type": "execute_result"
    }
   ],
   "source": [
    "### Test Data RMSE\n",
    "math.sqrt(mean_squared_error(ytest,test_predict))"
   ]
  },
  {
   "cell_type": "code",
   "execution_count": 30,
   "metadata": {},
   "outputs": [
    {
     "data": {
      "image/png": "[encoded data removed]",
      "text/plain": [
       "<Figure size 432x288 with 1 Axes>"
      ]
     },
     "metadata": {
      "needs_background": "light"
     },
     "output_type": "display_data"
    }
   ],
   "source": [
    "### Plotting \n",
    "# shift train predictions for plotting\n",
    "look_back=100\n",
    "trainPredictPlot = numpy.empty_like(df1)\n",
    "trainPredictPlot[:, :] = np.nan\n",
    "trainPredictPlot[look_back:len(train_predict)+look_back, :] = train_predict\n",
    "# shift test predictions for plotting\n",
    "testPredictPlot = numpy.empty_like(df1)\n",
    "testPredictPlot[:, :] = numpy.nan\n",
    "testPredictPlot[len(train_predict)+(look_back*2)+1:len(df1)-1, :] = test_predict\n",
    "# plot baseline and predictions\n",
    "plt.plot(scaler.inverse_transform(df1))\n",
    "plt.plot(trainPredictPlot)\n",
    "plt.plot(testPredictPlot)\n",
    "plt.show()"
   ]
  },
  {
   "cell_type": "code",
   "execution_count": 40,
   "metadata": {},
   "outputs": [
    {
     "data": {
      "text/plain": [
       "(1, 100)"
      ]
     },
     "execution_count": 40,
     "metadata": {},
     "output_type": "execute_result"
    }
   ],
   "source": [
    "len(test_data)\n",
    "x_input=test_data[859:].reshape(1,-1)\n",
    "x_input.shape\n"
   ]
  },
  {
   "cell_type": "code",
   "execution_count": 41,
   "metadata": {},
   "outputs": [],
   "source": [
    "temp_input=list(x_input)\n",
    "temp_input=temp_input[0].tolist()"
   ]
  },
  {
   "cell_type": "code",
   "execution_count": 42,
   "metadata": {},
   "outputs": [
    {
     "name": "stdout",
     "output_type": "stream",
     "text": [
      "[0.5775125]\n",
      "101\n",
      "1 day input [0.69841359 0.72986104 0.74078019 0.69090753 0.68905488 0.72294912\n",
      " 0.70467757 0.68296353 0.69255909 0.69045545 0.69302653 0.72354107\n",
      " 0.71896907 0.75096295 0.75152175 0.74569976 0.75133359 0.7488243\n",
      " 0.70354132 0.68656304 0.69744637 0.68451128 0.70499493 0.69992592\n",
      " 0.68676198 0.67844393 0.64388962 0.6378341  0.61404633 0.61665862\n",
      " 0.61929497 0.61795439 0.6315263  0.64953    0.62938522 0.63692548\n",
      " 0.63807848 0.6371359  0.62432473 0.62618086 0.61681275 0.6010251\n",
      " 0.53835732 0.51718068 0.53567866 0.54128083 0.5457278  0.54421594\n",
      " 0.54846165 0.55804927 0.56330012 0.5600269  0.56841886 0.57227927\n",
      " 0.54571267 0.54870453 0.61320009 0.61231402 0.62672696 0.64791524\n",
      " 0.65204294 0.6553128  0.64383189 0.62666024 0.62423448 0.62353773\n",
      " 0.62931618 0.65882089 0.64971932 0.59891189 0.59138785 0.5927409\n",
      " 0.56765098 0.54752747 0.56549407 0.55081124 0.56618531 0.57926776\n",
      " 0.57764923 0.55694305 0.63831348 0.65554785 0.64915925 0.62731096\n",
      " 0.57813087 0.58203331 0.56748189 0.56217024 0.57219018 0.62035337\n",
      " 0.58258051 0.57304645 0.57466451 0.55901875 0.58598305 0.58111623\n",
      " 0.60790327 0.60504596 0.61619345 0.5775125 ]\n",
      "1 day output [[0.5137635]]\n",
      "2 day input [0.72986104 0.74078019 0.69090753 0.68905488 0.72294912 0.70467757\n",
      " 0.68296353 0.69255909 0.69045545 0.69302653 0.72354107 0.71896907\n",
      " 0.75096295 0.75152175 0.74569976 0.75133359 0.7488243  0.70354132\n",
      " 0.68656304 0.69744637 0.68451128 0.70499493 0.69992592 0.68676198\n",
      " 0.67844393 0.64388962 0.6378341  0.61404633 0.61665862 0.61929497\n",
      " 0.61795439 0.6315263  0.64953    0.62938522 0.63692548 0.63807848\n",
      " 0.6371359  0.62432473 0.62618086 0.61681275 0.6010251  0.53835732\n",
      " 0.51718068 0.53567866 0.54128083 0.5457278  0.54421594 0.54846165\n",
      " 0.55804927 0.56330012 0.5600269  0.56841886 0.57227927 0.54571267\n",
      " 0.54870453 0.61320009 0.61231402 0.62672696 0.64791524 0.65204294\n",
      " 0.6553128  0.64383189 0.62666024 0.62423448 0.62353773 0.62931618\n",
      " 0.65882089 0.64971932 0.59891189 0.59138785 0.5927409  0.56765098\n",
      " 0.54752747 0.56549407 0.55081124 0.56618531 0.57926776 0.57764923\n",
      " 0.55694305 0.63831348 0.65554785 0.64915925 0.62731096 0.57813087\n",
      " 0.58203331 0.56748189 0.56217024 0.57219018 0.62035337 0.58258051\n",
      " 0.57304645 0.57466451 0.55901875 0.58598305 0.58111623 0.60790327\n",
      " 0.60504596 0.61619345 0.5775125  0.51376349]\n",
      "2 day output [[0.4527254]]\n",
      "3 day input [0.74078019 0.69090753 0.68905488 0.72294912 0.70467757 0.68296353\n",
      " 0.69255909 0.69045545 0.69302653 0.72354107 0.71896907 0.75096295\n",
      " 0.75152175 0.74569976 0.75133359 0.7488243  0.70354132 0.68656304\n",
      " 0.69744637 0.68451128 0.70499493 0.69992592 0.68676198 0.67844393\n",
      " 0.64388962 0.6378341  0.61404633 0.61665862 0.61929497 0.61795439\n",
      " 0.6315263  0.64953    0.62938522 0.63692548 0.63807848 0.6371359\n",
      " 0.62432473 0.62618086 0.61681275 0.6010251  0.53835732 0.51718068\n",
      " 0.53567866 0.54128083 0.5457278  0.54421594 0.54846165 0.55804927\n",
      " 0.56330012 0.5600269  0.56841886 0.57227927 0.54571267 0.54870453\n",
      " 0.61320009 0.61231402 0.62672696 0.64791524 0.65204294 0.6553128\n",
      " 0.64383189 0.62666024 0.62423448 0.62353773 0.62931618 0.65882089\n",
      " 0.64971932 0.59891189 0.59138785 0.5927409  0.56765098 0.54752747\n",
      " 0.56549407 0.55081124 0.56618531 0.57926776 0.57764923 0.55694305\n",
      " 0.63831348 0.65554785 0.64915925 0.62731096 0.57813087 0.58203331\n",
      " 0.56748189 0.56217024 0.57219018 0.62035337 0.58258051 0.57304645\n",
      " 0.57466451 0.55901875 0.58598305 0.58111623 0.60790327 0.60504596\n",
      " 0.61619345 0.5775125  0.51376349 0.45272541]\n",
      "3 day output [[0.4123309]]\n",
      "4 day input [0.69090753 0.68905488 0.72294912 0.70467757 0.68296353 0.69255909\n",
      " 0.69045545 0.69302653 0.72354107 0.71896907 0.75096295 0.75152175\n",
      " 0.74569976 0.75133359 0.7488243  0.70354132 0.68656304 0.69744637\n",
      " 0.68451128 0.70499493 0.69992592 0.68676198 0.67844393 0.64388962\n",
      " 0.6378341  0.61404633 0.61665862 0.61929497 0.61795439 0.6315263\n",
      " 0.64953    0.62938522 0.63692548 0.63807848 0.6371359  0.62432473\n",
      " 0.62618086 0.61681275 0.6010251  0.53835732 0.51718068 0.53567866\n",
      " 0.54128083 0.5457278  0.54421594 0.54846165 0.55804927 0.56330012\n",
      " 0.5600269  0.56841886 0.57227927 0.54571267 0.54870453 0.61320009\n",
      " 0.61231402 0.62672696 0.64791524 0.65204294 0.6553128  0.64383189\n",
      " 0.62666024 0.62423448 0.62353773 0.62931618 0.65882089 0.64971932\n",
      " 0.59891189 0.59138785 0.5927409  0.56765098 0.54752747 0.56549407\n",
      " 0.55081124 0.56618531 0.57926776 0.57764923 0.55694305 0.63831348\n",
      " 0.65554785 0.64915925 0.62731096 0.57813087 0.58203331 0.56748189\n",
      " 0.56217024 0.57219018 0.62035337 0.58258051 0.57304645 0.57466451\n",
      " 0.55901875 0.58598305 0.58111623 0.60790327 0.60504596 0.61619345\n",
      " 0.5775125  0.51376349 0.45272541 0.4123309 ]\n",
      "4 day output [[0.39548242]]\n",
      "5 day input [0.68905488 0.72294912 0.70467757 0.68296353 0.69255909 0.69045545\n",
      " 0.69302653 0.72354107 0.71896907 0.75096295 0.75152175 0.74569976\n",
      " 0.75133359 0.7488243  0.70354132 0.68656304 0.69744637 0.68451128\n",
      " 0.70499493 0.69992592 0.68676198 0.67844393 0.64388962 0.6378341\n",
      " 0.61404633 0.61665862 0.61929497 0.61795439 0.6315263  0.64953\n",
      " 0.62938522 0.63692548 0.63807848 0.6371359  0.62432473 0.62618086\n",
      " 0.61681275 0.6010251  0.53835732 0.51718068 0.53567866 0.54128083\n",
      " 0.5457278  0.54421594 0.54846165 0.55804927 0.56330012 0.5600269\n",
      " 0.56841886 0.57227927 0.54571267 0.54870453 0.61320009 0.61231402\n",
      " 0.62672696 0.64791524 0.65204294 0.6553128  0.64383189 0.62666024\n",
      " 0.62423448 0.62353773 0.62931618 0.65882089 0.64971932 0.59891189\n",
      " 0.59138785 0.5927409  0.56765098 0.54752747 0.56549407 0.55081124\n",
      " 0.56618531 0.57926776 0.57764923 0.55694305 0.63831348 0.65554785\n",
      " 0.64915925 0.62731096 0.57813087 0.58203331 0.56748189 0.56217024\n",
      " 0.57219018 0.62035337 0.58258051 0.57304645 0.57466451 0.55901875\n",
      " 0.58598305 0.58111623 0.60790327 0.60504596 0.61619345 0.5775125\n",
      " 0.51376349 0.45272541 0.4123309  0.39548242]\n",
      "5 day output [[0.39366657]]\n",
      "6 day input [0.72294912 0.70467757 0.68296353 0.69255909 0.69045545 0.69302653\n",
      " 0.72354107 0.71896907 0.75096295 0.75152175 0.74569976 0.75133359\n",
      " 0.7488243  0.70354132 0.68656304 0.69744637 0.68451128 0.70499493\n",
      " 0.69992592 0.68676198 0.67844393 0.64388962 0.6378341  0.61404633\n",
      " 0.61665862 0.61929497 0.61795439 0.6315263  0.64953    0.62938522\n",
      " 0.63692548 0.63807848 0.6371359  0.62432473 0.62618086 0.61681275\n",
      " 0.6010251  0.53835732 0.51718068 0.53567866 0.54128083 0.5457278\n",
      " 0.54421594 0.54846165 0.55804927 0.56330012 0.5600269  0.56841886\n",
      " 0.57227927 0.54571267 0.54870453 0.61320009 0.61231402 0.62672696\n",
      " 0.64791524 0.65204294 0.6553128  0.64383189 0.62666024 0.62423448\n",
      " 0.62353773 0.62931618 0.65882089 0.64971932 0.59891189 0.59138785\n",
      " 0.5927409  0.56765098 0.54752747 0.56549407 0.55081124 0.56618531\n",
      " 0.57926776 0.57764923 0.55694305 0.63831348 0.65554785 0.64915925\n",
      " 0.62731096 0.57813087 0.58203331 0.56748189 0.56217024 0.57219018\n",
      " 0.62035337 0.58258051 0.57304645 0.57466451 0.55901875 0.58598305\n",
      " 0.58111623 0.60790327 0.60504596 0.61619345 0.5775125  0.51376349\n",
      " 0.45272541 0.4123309  0.39548242 0.39366657]\n",
      "6 day output [[0.39565554]]\n",
      "7 day input [0.70467757 0.68296353 0.69255909 0.69045545 0.69302653 0.72354107\n",
      " 0.71896907 0.75096295 0.75152175 0.74569976 0.75133359 0.7488243\n",
      " 0.70354132 0.68656304 0.69744637 0.68451128 0.70499493 0.69992592\n",
      " 0.68676198 0.67844393 0.64388962 0.6378341  0.61404633 0.61665862\n",
      " 0.61929497 0.61795439 0.6315263  0.64953    0.62938522 0.63692548\n",
      " 0.63807848 0.6371359  0.62432473 0.62618086 0.61681275 0.6010251\n",
      " 0.53835732 0.51718068 0.53567866 0.54128083 0.5457278  0.54421594\n",
      " 0.54846165 0.55804927 0.56330012 0.5600269  0.56841886 0.57227927\n",
      " 0.54571267 0.54870453 0.61320009 0.61231402 0.62672696 0.64791524\n",
      " 0.65204294 0.6553128  0.64383189 0.62666024 0.62423448 0.62353773\n",
      " 0.62931618 0.65882089 0.64971932 0.59891189 0.59138785 0.5927409\n",
      " 0.56765098 0.54752747 0.56549407 0.55081124 0.56618531 0.57926776\n",
      " 0.57764923 0.55694305 0.63831348 0.65554785 0.64915925 0.62731096\n",
      " 0.57813087 0.58203331 0.56748189 0.56217024 0.57219018 0.62035337\n",
      " 0.58258051 0.57304645 0.57466451 0.55901875 0.58598305 0.58111623\n",
      " 0.60790327 0.60504596 0.61619345 0.5775125  0.51376349 0.45272541\n",
      " 0.4123309  0.39548242 0.39366657 0.39565554]\n",
      "7 day output [[0.39347792]]\n",
      "8 day input [0.68296353 0.69255909 0.69045545 0.69302653 0.72354107 0.71896907\n",
      " 0.75096295 0.75152175 0.74569976 0.75133359 0.7488243  0.70354132\n",
      " 0.68656304 0.69744637 0.68451128 0.70499493 0.69992592 0.68676198\n",
      " 0.67844393 0.64388962 0.6378341  0.61404633 0.61665862 0.61929497\n",
      " 0.61795439 0.6315263  0.64953    0.62938522 0.63692548 0.63807848\n",
      " 0.6371359  0.62432473 0.62618086 0.61681275 0.6010251  0.53835732\n",
      " 0.51718068 0.53567866 0.54128083 0.5457278  0.54421594 0.54846165\n",
      " 0.55804927 0.56330012 0.5600269  0.56841886 0.57227927 0.54571267\n",
      " 0.54870453 0.61320009 0.61231402 0.62672696 0.64791524 0.65204294\n",
      " 0.6553128  0.64383189 0.62666024 0.62423448 0.62353773 0.62931618\n",
      " 0.65882089 0.64971932 0.59891189 0.59138785 0.5927409  0.56765098\n",
      " 0.54752747 0.56549407 0.55081124 0.56618531 0.57926776 0.57764923\n",
      " 0.55694305 0.63831348 0.65554785 0.64915925 0.62731096 0.57813087\n",
      " 0.58203331 0.56748189 0.56217024 0.57219018 0.62035337 0.58258051\n",
      " 0.57304645 0.57466451 0.55901875 0.58598305 0.58111623 0.60790327\n",
      " 0.60504596 0.61619345 0.5775125  0.51376349 0.45272541 0.4123309\n",
      " 0.39548242 0.39366657 0.39565554 0.39347792]\n",
      "8 day output [[0.38425267]]\n",
      "9 day input [0.69255909 0.69045545 0.69302653 0.72354107 0.71896907 0.75096295\n",
      " 0.75152175 0.74569976 0.75133359 0.7488243  0.70354132 0.68656304\n",
      " 0.69744637 0.68451128 0.70499493 0.69992592 0.68676198 0.67844393\n",
      " 0.64388962 0.6378341  0.61404633 0.61665862 0.61929497 0.61795439\n",
      " 0.6315263  0.64953    0.62938522 0.63692548 0.63807848 0.6371359\n",
      " 0.62432473 0.62618086 0.61681275 0.6010251  0.53835732 0.51718068\n",
      " 0.53567866 0.54128083 0.5457278  0.54421594 0.54846165 0.55804927\n",
      " 0.56330012 0.5600269  0.56841886 0.57227927 0.54571267 0.54870453\n",
      " 0.61320009 0.61231402 0.62672696 0.64791524 0.65204294 0.6553128\n",
      " 0.64383189 0.62666024 0.62423448 0.62353773 0.62931618 0.65882089\n",
      " 0.64971932 0.59891189 0.59138785 0.5927409  0.56765098 0.54752747\n",
      " 0.56549407 0.55081124 0.56618531 0.57926776 0.57764923 0.55694305\n",
      " 0.63831348 0.65554785 0.64915925 0.62731096 0.57813087 0.58203331\n",
      " 0.56748189 0.56217024 0.57219018 0.62035337 0.58258051 0.57304645\n",
      " 0.57466451 0.55901875 0.58598305 0.58111623 0.60790327 0.60504596\n",
      " 0.61619345 0.5775125  0.51376349 0.45272541 0.4123309  0.39548242\n",
      " 0.39366657 0.39565554 0.39347792 0.38425267]\n",
      "9 day output [[0.36938047]]\n",
      "10 day input [0.69045545 0.69302653 0.72354107 0.71896907 0.75096295 0.75152175\n",
      " 0.74569976 0.75133359 0.7488243  0.70354132 0.68656304 0.69744637\n",
      " 0.68451128 0.70499493 0.69992592 0.68676198 0.67844393 0.64388962\n",
      " 0.6378341  0.61404633 0.61665862 0.61929497 0.61795439 0.6315263\n",
      " 0.64953    0.62938522 0.63692548 0.63807848 0.6371359  0.62432473\n",
      " 0.62618086 0.61681275 0.6010251  0.53835732 0.51718068 0.53567866\n",
      " 0.54128083 0.5457278  0.54421594 0.54846165 0.55804927 0.56330012\n",
      " 0.5600269  0.56841886 0.57227927 0.54571267 0.54870453 0.61320009\n",
      " 0.61231402 0.62672696 0.64791524 0.65204294 0.6553128  0.64383189\n",
      " 0.62666024 0.62423448 0.62353773 0.62931618 0.65882089 0.64971932\n",
      " 0.59891189 0.59138785 0.5927409  0.56765098 0.54752747 0.56549407\n",
      " 0.55081124 0.56618531 0.57926776 0.57764923 0.55694305 0.63831348\n",
      " 0.65554785 0.64915925 0.62731096 0.57813087 0.58203331 0.56748189\n",
      " 0.56217024 0.57219018 0.62035337 0.58258051 0.57304645 0.57466451\n",
      " 0.55901875 0.58598305 0.58111623 0.60790327 0.60504596 0.61619345\n",
      " 0.5775125  0.51376349 0.45272541 0.4123309  0.39548242 0.39366657\n",
      " 0.39565554 0.39347792 0.38425267 0.36938047]\n",
      "10 day output [[0.35245287]]\n",
      "11 day input [0.69302653 0.72354107 0.71896907 0.75096295 0.75152175 0.74569976\n",
      " 0.75133359 0.7488243  0.70354132 0.68656304 0.69744637 0.68451128\n",
      " 0.70499493 0.69992592 0.68676198 0.67844393 0.64388962 0.6378341\n",
      " 0.61404633 0.61665862 0.61929497 0.61795439 0.6315263  0.64953\n",
      " 0.62938522 0.63692548 0.63807848 0.6371359  0.62432473 0.62618086\n",
      " 0.61681275 0.6010251  0.53835732 0.51718068 0.53567866 0.54128083\n",
      " 0.5457278  0.54421594 0.54846165 0.55804927 0.56330012 0.5600269\n",
      " 0.56841886 0.57227927 0.54571267 0.54870453 0.61320009 0.61231402\n",
      " 0.62672696 0.64791524 0.65204294 0.6553128  0.64383189 0.62666024\n",
      " 0.62423448 0.62353773 0.62931618 0.65882089 0.64971932 0.59891189\n",
      " 0.59138785 0.5927409  0.56765098 0.54752747 0.56549407 0.55081124\n",
      " 0.56618531 0.57926776 0.57764923 0.55694305 0.63831348 0.65554785\n",
      " 0.64915925 0.62731096 0.57813087 0.58203331 0.56748189 0.56217024\n",
      " 0.57219018 0.62035337 0.58258051 0.57304645 0.57466451 0.55901875\n",
      " 0.58598305 0.58111623 0.60790327 0.60504596 0.61619345 0.5775125\n",
      " 0.51376349 0.45272541 0.4123309  0.39548242 0.39366657 0.39565554\n",
      " 0.39347792 0.38425267 0.36938047 0.35245287]\n",
      "11 day output [[0.3370056]]\n",
      "12 day input [0.72354107 0.71896907 0.75096295 0.75152175 0.74569976 0.75133359\n",
      " 0.7488243  0.70354132 0.68656304 0.69744637 0.68451128 0.70499493\n",
      " 0.69992592 0.68676198 0.67844393 0.64388962 0.6378341  0.61404633\n",
      " 0.61665862 0.61929497 0.61795439 0.6315263  0.64953    0.62938522\n",
      " 0.63692548 0.63807848 0.6371359  0.62432473 0.62618086 0.61681275\n",
      " 0.6010251  0.53835732 0.51718068 0.53567866 0.54128083 0.5457278\n",
      " 0.54421594 0.54846165 0.55804927 0.56330012 0.5600269  0.56841886\n",
      " 0.57227927 0.54571267 0.54870453 0.61320009 0.61231402 0.62672696\n",
      " 0.64791524 0.65204294 0.6553128  0.64383189 0.62666024 0.62423448\n",
      " 0.62353773 0.62931618 0.65882089 0.64971932 0.59891189 0.59138785\n",
      " 0.5927409  0.56765098 0.54752747 0.56549407 0.55081124 0.56618531\n",
      " 0.57926776 0.57764923 0.55694305 0.63831348 0.65554785 0.64915925\n",
      " 0.62731096 0.57813087 0.58203331 0.56748189 0.56217024 0.57219018\n",
      " 0.62035337 0.58258051 0.57304645 0.57466451 0.55901875 0.58598305\n",
      " 0.58111623 0.60790327 0.60504596 0.61619345 0.5775125  0.51376349\n",
      " 0.45272541 0.4123309  0.39548242 0.39366657 0.39565554 0.39347792\n",
      " 0.38425267 0.36938047 0.35245287 0.33700559]\n",
      "12 day output [[0.32507166]]\n",
      "13 day input [0.71896907 0.75096295 0.75152175 0.74569976 0.75133359 0.7488243\n",
      " 0.70354132 0.68656304 0.69744637 0.68451128 0.70499493 0.69992592\n",
      " 0.68676198 0.67844393 0.64388962 0.6378341  0.61404633 0.61665862\n",
      " 0.61929497 0.61795439 0.6315263  0.64953    0.62938522 0.63692548\n",
      " 0.63807848 0.6371359  0.62432473 0.62618086 0.61681275 0.6010251\n",
      " 0.53835732 0.51718068 0.53567866 0.54128083 0.5457278  0.54421594\n",
      " 0.54846165 0.55804927 0.56330012 0.5600269  0.56841886 0.57227927\n",
      " 0.54571267 0.54870453 0.61320009 0.61231402 0.62672696 0.64791524\n",
      " 0.65204294 0.6553128  0.64383189 0.62666024 0.62423448 0.62353773\n",
      " 0.62931618 0.65882089 0.64971932 0.59891189 0.59138785 0.5927409\n",
      " 0.56765098 0.54752747 0.56549407 0.55081124 0.56618531 0.57926776\n",
      " 0.57764923 0.55694305 0.63831348 0.65554785 0.64915925 0.62731096\n",
      " 0.57813087 0.58203331 0.56748189 0.56217024 0.57219018 0.62035337\n",
      " 0.58258051 0.57304645 0.57466451 0.55901875 0.58598305 0.58111623\n",
      " 0.60790327 0.60504596 0.61619345 0.5775125  0.51376349 0.45272541\n",
      " 0.4123309  0.39548242 0.39366657 0.39565554 0.39347792 0.38425267\n",
      " 0.36938047 0.35245287 0.33700559 0.32507166]\n",
      "13 day output [[0.31690797]]\n",
      "14 day input [0.75096295 0.75152175 0.74569976 0.75133359 0.7488243  0.70354132\n",
      " 0.68656304 0.69744637 0.68451128 0.70499493 0.69992592 0.68676198\n",
      " 0.67844393 0.64388962 0.6378341  0.61404633 0.61665862 0.61929497\n",
      " 0.61795439 0.6315263  0.64953    0.62938522 0.63692548 0.63807848\n",
      " 0.6371359  0.62432473 0.62618086 0.61681275 0.6010251  0.53835732\n",
      " 0.51718068 0.53567866 0.54128083 0.5457278  0.54421594 0.54846165\n",
      " 0.55804927 0.56330012 0.5600269  0.56841886 0.57227927 0.54571267\n",
      " 0.54870453 0.61320009 0.61231402 0.62672696 0.64791524 0.65204294\n",
      " 0.6553128  0.64383189 0.62666024 0.62423448 0.62353773 0.62931618\n",
      " 0.65882089 0.64971932 0.59891189 0.59138785 0.5927409  0.56765098\n",
      " 0.54752747 0.56549407 0.55081124 0.56618531 0.57926776 0.57764923\n",
      " 0.55694305 0.63831348 0.65554785 0.64915925 0.62731096 0.57813087\n",
      " 0.58203331 0.56748189 0.56217024 0.57219018 0.62035337 0.58258051\n",
      " 0.57304645 0.57466451 0.55901875 0.58598305 0.58111623 0.60790327\n",
      " 0.60504596 0.61619345 0.5775125  0.51376349 0.45272541 0.4123309\n",
      " 0.39548242 0.39366657 0.39565554 0.39347792 0.38425267 0.36938047\n",
      " 0.35245287 0.33700559 0.32507166 0.31690797]\n",
      "14 day output [[0.3115689]]\n",
      "15 day input [0.75152175 0.74569976 0.75133359 0.7488243  0.70354132 0.68656304\n",
      " 0.69744637 0.68451128 0.70499493 0.69992592 0.68676198 0.67844393\n",
      " 0.64388962 0.6378341  0.61404633 0.61665862 0.61929497 0.61795439\n",
      " 0.6315263  0.64953    0.62938522 0.63692548 0.63807848 0.6371359\n",
      " 0.62432473 0.62618086 0.61681275 0.6010251  0.53835732 0.51718068\n",
      " 0.53567866 0.54128083 0.5457278  0.54421594 0.54846165 0.55804927\n",
      " 0.56330012 0.5600269  0.56841886 0.57227927 0.54571267 0.54870453\n",
      " 0.61320009 0.61231402 0.62672696 0.64791524 0.65204294 0.6553128\n",
      " 0.64383189 0.62666024 0.62423448 0.62353773 0.62931618 0.65882089\n",
      " 0.64971932 0.59891189 0.59138785 0.5927409  0.56765098 0.54752747\n",
      " 0.56549407 0.55081124 0.56618531 0.57926776 0.57764923 0.55694305\n",
      " 0.63831348 0.65554785 0.64915925 0.62731096 0.57813087 0.58203331\n",
      " 0.56748189 0.56217024 0.57219018 0.62035337 0.58258051 0.57304645\n",
      " 0.57466451 0.55901875 0.58598305 0.58111623 0.60790327 0.60504596\n",
      " 0.61619345 0.5775125  0.51376349 0.45272541 0.4123309  0.39548242\n",
      " 0.39366657 0.39565554 0.39347792 0.38425267 0.36938047 0.35245287\n",
      " 0.33700559 0.32507166 0.31690797 0.31156889]\n",
      "15 day output [[0.30771622]]\n",
      "16 day input [0.74569976 0.75133359 0.7488243  0.70354132 0.68656304 0.69744637\n",
      " 0.68451128 0.70499493 0.69992592 0.68676198 0.67844393 0.64388962\n",
      " 0.6378341  0.61404633 0.61665862 0.61929497 0.61795439 0.6315263\n",
      " 0.64953    0.62938522 0.63692548 0.63807848 0.6371359  0.62432473\n",
      " 0.62618086 0.61681275 0.6010251  0.53835732 0.51718068 0.53567866\n",
      " 0.54128083 0.5457278  0.54421594 0.54846165 0.55804927 0.56330012\n",
      " 0.5600269  0.56841886 0.57227927 0.54571267 0.54870453 0.61320009\n",
      " 0.61231402 0.62672696 0.64791524 0.65204294 0.6553128  0.64383189\n",
      " 0.62666024 0.62423448 0.62353773 0.62931618 0.65882089 0.64971932\n",
      " 0.59891189 0.59138785 0.5927409  0.56765098 0.54752747 0.56549407\n",
      " 0.55081124 0.56618531 0.57926776 0.57764923 0.55694305 0.63831348\n",
      " 0.65554785 0.64915925 0.62731096 0.57813087 0.58203331 0.56748189\n",
      " 0.56217024 0.57219018 0.62035337 0.58258051 0.57304645 0.57466451\n",
      " 0.55901875 0.58598305 0.58111623 0.60790327 0.60504596 0.61619345\n",
      " 0.5775125  0.51376349 0.45272541 0.4123309  0.39548242 0.39366657\n",
      " 0.39565554 0.39347792 0.38425267 0.36938047 0.35245287 0.33700559\n",
      " 0.32507166 0.31690797 0.31156889 0.30771622]\n",
      "16 day output [[0.3042304]]\n",
      "17 day input [0.75133359 0.7488243  0.70354132 0.68656304 0.69744637 0.68451128\n",
      " 0.70499493 0.69992592 0.68676198 0.67844393 0.64388962 0.6378341\n",
      " 0.61404633 0.61665862 0.61929497 0.61795439 0.6315263  0.64953\n",
      " 0.62938522 0.63692548 0.63807848 0.6371359  0.62432473 0.62618086\n",
      " 0.61681275 0.6010251  0.53835732 0.51718068 0.53567866 0.54128083\n",
      " 0.5457278  0.54421594 0.54846165 0.55804927 0.56330012 0.5600269\n",
      " 0.56841886 0.57227927 0.54571267 0.54870453 0.61320009 0.61231402\n",
      " 0.62672696 0.64791524 0.65204294 0.6553128  0.64383189 0.62666024\n",
      " 0.62423448 0.62353773 0.62931618 0.65882089 0.64971932 0.59891189\n",
      " 0.59138785 0.5927409  0.56765098 0.54752747 0.56549407 0.55081124\n",
      " 0.56618531 0.57926776 0.57764923 0.55694305 0.63831348 0.65554785\n",
      " 0.64915925 0.62731096 0.57813087 0.58203331 0.56748189 0.56217024\n",
      " 0.57219018 0.62035337 0.58258051 0.57304645 0.57466451 0.55901875\n",
      " 0.58598305 0.58111623 0.60790327 0.60504596 0.61619345 0.5775125\n",
      " 0.51376349 0.45272541 0.4123309  0.39548242 0.39366657 0.39565554\n",
      " 0.39347792 0.38425267 0.36938047 0.35245287 0.33700559 0.32507166\n",
      " 0.31690797 0.31156889 0.30771622 0.30423039]\n",
      "17 day output [[0.30048475]]\n",
      "18 day input [0.7488243  0.70354132 0.68656304 0.69744637 0.68451128 0.70499493\n",
      " 0.69992592 0.68676198 0.67844393 0.64388962 0.6378341  0.61404633\n",
      " 0.61665862 0.61929497 0.61795439 0.6315263  0.64953    0.62938522\n",
      " 0.63692548 0.63807848 0.6371359  0.62432473 0.62618086 0.61681275\n",
      " 0.6010251  0.53835732 0.51718068 0.53567866 0.54128083 0.5457278\n",
      " 0.54421594 0.54846165 0.55804927 0.56330012 0.5600269  0.56841886\n",
      " 0.57227927 0.54571267 0.54870453 0.61320009 0.61231402 0.62672696\n",
      " 0.64791524 0.65204294 0.6553128  0.64383189 0.62666024 0.62423448\n",
      " 0.62353773 0.62931618 0.65882089 0.64971932 0.59891189 0.59138785\n",
      " 0.5927409  0.56765098 0.54752747 0.56549407 0.55081124 0.56618531\n",
      " 0.57926776 0.57764923 0.55694305 0.63831348 0.65554785 0.64915925\n",
      " 0.62731096 0.57813087 0.58203331 0.56748189 0.56217024 0.57219018\n",
      " 0.62035337 0.58258051 0.57304645 0.57466451 0.55901875 0.58598305\n",
      " 0.58111623 0.60790327 0.60504596 0.61619345 0.5775125  0.51376349\n",
      " 0.45272541 0.4123309  0.39548242 0.39366657 0.39565554 0.39347792\n",
      " 0.38425267 0.36938047 0.35245287 0.33700559 0.32507166 0.31690797\n",
      " 0.31156889 0.30771622 0.30423039 0.30048475]\n",
      "18 day output [[0.2963394]]\n",
      "19 day input [0.70354132 0.68656304 0.69744637 0.68451128 0.70499493 0.69992592\n",
      " 0.68676198 0.67844393 0.64388962 0.6378341  0.61404633 0.61665862\n",
      " 0.61929497 0.61795439 0.6315263  0.64953    0.62938522 0.63692548\n",
      " 0.63807848 0.6371359  0.62432473 0.62618086 0.61681275 0.6010251\n",
      " 0.53835732 0.51718068 0.53567866 0.54128083 0.5457278  0.54421594\n",
      " 0.54846165 0.55804927 0.56330012 0.5600269  0.56841886 0.57227927\n",
      " 0.54571267 0.54870453 0.61320009 0.61231402 0.62672696 0.64791524\n",
      " 0.65204294 0.6553128  0.64383189 0.62666024 0.62423448 0.62353773\n",
      " 0.62931618 0.65882089 0.64971932 0.59891189 0.59138785 0.5927409\n",
      " 0.56765098 0.54752747 0.56549407 0.55081124 0.56618531 0.57926776\n",
      " 0.57764923 0.55694305 0.63831348 0.65554785 0.64915925 0.62731096\n",
      " 0.57813087 0.58203331 0.56748189 0.56217024 0.57219018 0.62035337\n",
      " 0.58258051 0.57304645 0.57466451 0.55901875 0.58598305 0.58111623\n",
      " 0.60790327 0.60504596 0.61619345 0.5775125  0.51376349 0.45272541\n",
      " 0.4123309  0.39548242 0.39366657 0.39565554 0.39347792 0.38425267\n",
      " 0.36938047 0.35245287 0.33700559 0.32507166 0.31690797 0.31156889\n",
      " 0.30771622 0.30423039 0.30048475 0.29633939]\n",
      "19 day output [[0.2919765]]\n",
      "20 day input [0.68656304 0.69744637 0.68451128 0.70499493 0.69992592 0.68676198\n",
      " 0.67844393 0.64388962 0.6378341  0.61404633 0.61665862 0.61929497\n",
      " 0.61795439 0.6315263  0.64953    0.62938522 0.63692548 0.63807848\n",
      " 0.6371359  0.62432473 0.62618086 0.61681275 0.6010251  0.53835732\n",
      " 0.51718068 0.53567866 0.54128083 0.5457278  0.54421594 0.54846165\n",
      " 0.55804927 0.56330012 0.5600269  0.56841886 0.57227927 0.54571267\n",
      " 0.54870453 0.61320009 0.61231402 0.62672696 0.64791524 0.65204294\n",
      " 0.6553128  0.64383189 0.62666024 0.62423448 0.62353773 0.62931618\n",
      " 0.65882089 0.64971932 0.59891189 0.59138785 0.5927409  0.56765098\n",
      " 0.54752747 0.56549407 0.55081124 0.56618531 0.57926776 0.57764923\n",
      " 0.55694305 0.63831348 0.65554785 0.64915925 0.62731096 0.57813087\n",
      " 0.58203331 0.56748189 0.56217024 0.57219018 0.62035337 0.58258051\n",
      " 0.57304645 0.57466451 0.55901875 0.58598305 0.58111623 0.60790327\n",
      " 0.60504596 0.61619345 0.5775125  0.51376349 0.45272541 0.4123309\n",
      " 0.39548242 0.39366657 0.39565554 0.39347792 0.38425267 0.36938047\n",
      " 0.35245287 0.33700559 0.32507166 0.31690797 0.31156889 0.30771622\n",
      " 0.30423039 0.30048475 0.29633939 0.29197651]\n",
      "20 day output [[0.28769717]]\n",
      "21 day input [0.69744637 0.68451128 0.70499493 0.69992592 0.68676198 0.67844393\n",
      " 0.64388962 0.6378341  0.61404633 0.61665862 0.61929497 0.61795439\n",
      " 0.6315263  0.64953    0.62938522 0.63692548 0.63807848 0.6371359\n",
      " 0.62432473 0.62618086 0.61681275 0.6010251  0.53835732 0.51718068\n",
      " 0.53567866 0.54128083 0.5457278  0.54421594 0.54846165 0.55804927\n",
      " 0.56330012 0.5600269  0.56841886 0.57227927 0.54571267 0.54870453\n",
      " 0.61320009 0.61231402 0.62672696 0.64791524 0.65204294 0.6553128\n",
      " 0.64383189 0.62666024 0.62423448 0.62353773 0.62931618 0.65882089\n",
      " 0.64971932 0.59891189 0.59138785 0.5927409  0.56765098 0.54752747\n",
      " 0.56549407 0.55081124 0.56618531 0.57926776 0.57764923 0.55694305\n",
      " 0.63831348 0.65554785 0.64915925 0.62731096 0.57813087 0.58203331\n",
      " 0.56748189 0.56217024 0.57219018 0.62035337 0.58258051 0.57304645\n",
      " 0.57466451 0.55901875 0.58598305 0.58111623 0.60790327 0.60504596\n",
      " 0.61619345 0.5775125  0.51376349 0.45272541 0.4123309  0.39548242\n",
      " 0.39366657 0.39565554 0.39347792 0.38425267 0.36938047 0.35245287\n",
      " 0.33700559 0.32507166 0.31690797 0.31156889 0.30771622 0.30423039\n",
      " 0.30048475 0.29633939 0.29197651 0.28769717]\n",
      "21 day output [[0.28376114]]\n",
      "22 day input [0.68451128 0.70499493 0.69992592 0.68676198 0.67844393 0.64388962\n",
      " 0.6378341  0.61404633 0.61665862 0.61929497 0.61795439 0.6315263\n",
      " 0.64953    0.62938522 0.63692548 0.63807848 0.6371359  0.62432473\n",
      " 0.62618086 0.61681275 0.6010251  0.53835732 0.51718068 0.53567866\n",
      " 0.54128083 0.5457278  0.54421594 0.54846165 0.55804927 0.56330012\n",
      " 0.5600269  0.56841886 0.57227927 0.54571267 0.54870453 0.61320009\n",
      " 0.61231402 0.62672696 0.64791524 0.65204294 0.6553128  0.64383189\n",
      " 0.62666024 0.62423448 0.62353773 0.62931618 0.65882089 0.64971932\n",
      " 0.59891189 0.59138785 0.5927409  0.56765098 0.54752747 0.56549407\n",
      " 0.55081124 0.56618531 0.57926776 0.57764923 0.55694305 0.63831348\n",
      " 0.65554785 0.64915925 0.62731096 0.57813087 0.58203331 0.56748189\n",
      " 0.56217024 0.57219018 0.62035337 0.58258051 0.57304645 0.57466451\n",
      " 0.55901875 0.58598305 0.58111623 0.60790327 0.60504596 0.61619345\n",
      " 0.5775125  0.51376349 0.45272541 0.4123309  0.39548242 0.39366657\n",
      " 0.39565554 0.39347792 0.38425267 0.36938047 0.35245287 0.33700559\n",
      " 0.32507166 0.31690797 0.31156889 0.30771622 0.30423039 0.30048475\n",
      " 0.29633939 0.29197651 0.28769717 0.28376114]\n",
      "22 day output [[0.28030583]]\n",
      "23 day input [0.70499493 0.69992592 0.68676198 0.67844393 0.64388962 0.6378341\n",
      " 0.61404633 0.61665862 0.61929497 0.61795439 0.6315263  0.64953\n",
      " 0.62938522 0.63692548 0.63807848 0.6371359  0.62432473 0.62618086\n",
      " 0.61681275 0.6010251  0.53835732 0.51718068 0.53567866 0.54128083\n",
      " 0.5457278  0.54421594 0.54846165 0.55804927 0.56330012 0.5600269\n",
      " 0.56841886 0.57227927 0.54571267 0.54870453 0.61320009 0.61231402\n",
      " 0.62672696 0.64791524 0.65204294 0.6553128  0.64383189 0.62666024\n",
      " 0.62423448 0.62353773 0.62931618 0.65882089 0.64971932 0.59891189\n",
      " 0.59138785 0.5927409  0.56765098 0.54752747 0.56549407 0.55081124\n",
      " 0.56618531 0.57926776 0.57764923 0.55694305 0.63831348 0.65554785\n",
      " 0.64915925 0.62731096 0.57813087 0.58203331 0.56748189 0.56217024\n",
      " 0.57219018 0.62035337 0.58258051 0.57304645 0.57466451 0.55901875\n",
      " 0.58598305 0.58111623 0.60790327 0.60504596 0.61619345 0.5775125\n",
      " 0.51376349 0.45272541 0.4123309  0.39548242 0.39366657 0.39565554\n",
      " 0.39347792 0.38425267 0.36938047 0.35245287 0.33700559 0.32507166\n",
      " 0.31690797 0.31156889 0.30771622 0.30423039 0.30048475 0.29633939\n",
      " 0.29197651 0.28769717 0.28376114 0.28030583]\n",
      "23 day output [[0.27733952]]\n",
      "24 day input [0.69992592 0.68676198 0.67844393 0.64388962 0.6378341  0.61404633\n",
      " 0.61665862 0.61929497 0.61795439 0.6315263  0.64953    0.62938522\n",
      " 0.63692548 0.63807848 0.6371359  0.62432473 0.62618086 0.61681275\n",
      " 0.6010251  0.53835732 0.51718068 0.53567866 0.54128083 0.5457278\n",
      " 0.54421594 0.54846165 0.55804927 0.56330012 0.5600269  0.56841886\n",
      " 0.57227927 0.54571267 0.54870453 0.61320009 0.61231402 0.62672696\n",
      " 0.64791524 0.65204294 0.6553128  0.64383189 0.62666024 0.62423448\n",
      " 0.62353773 0.62931618 0.65882089 0.64971932 0.59891189 0.59138785\n",
      " 0.5927409  0.56765098 0.54752747 0.56549407 0.55081124 0.56618531\n",
      " 0.57926776 0.57764923 0.55694305 0.63831348 0.65554785 0.64915925\n",
      " 0.62731096 0.57813087 0.58203331 0.56748189 0.56217024 0.57219018\n",
      " 0.62035337 0.58258051 0.57304645 0.57466451 0.55901875 0.58598305\n",
      " 0.58111623 0.60790327 0.60504596 0.61619345 0.5775125  0.51376349\n",
      " 0.45272541 0.4123309  0.39548242 0.39366657 0.39565554 0.39347792\n",
      " 0.38425267 0.36938047 0.35245287 0.33700559 0.32507166 0.31690797\n",
      " 0.31156889 0.30771622 0.30423039 0.30048475 0.29633939 0.29197651\n",
      " 0.28769717 0.28376114 0.28030583 0.27733952]\n",
      "24 day output [[0.27478078]]\n",
      "25 day input [0.68676198 0.67844393 0.64388962 0.6378341  0.61404633 0.61665862\n",
      " 0.61929497 0.61795439 0.6315263  0.64953    0.62938522 0.63692548\n",
      " 0.63807848 0.6371359  0.62432473 0.62618086 0.61681275 0.6010251\n",
      " 0.53835732 0.51718068 0.53567866 0.54128083 0.5457278  0.54421594\n",
      " 0.54846165 0.55804927 0.56330012 0.5600269  0.56841886 0.57227927\n",
      " 0.54571267 0.54870453 0.61320009 0.61231402 0.62672696 0.64791524\n",
      " 0.65204294 0.6553128  0.64383189 0.62666024 0.62423448 0.62353773\n",
      " 0.62931618 0.65882089 0.64971932 0.59891189 0.59138785 0.5927409\n",
      " 0.56765098 0.54752747 0.56549407 0.55081124 0.56618531 0.57926776\n",
      " 0.57764923 0.55694305 0.63831348 0.65554785 0.64915925 0.62731096\n",
      " 0.57813087 0.58203331 0.56748189 0.56217024 0.57219018 0.62035337\n",
      " 0.58258051 0.57304645 0.57466451 0.55901875 0.58598305 0.58111623\n",
      " 0.60790327 0.60504596 0.61619345 0.5775125  0.51376349 0.45272541\n",
      " 0.4123309  0.39548242 0.39366657 0.39565554 0.39347792 0.38425267\n",
      " 0.36938047 0.35245287 0.33700559 0.32507166 0.31690797 0.31156889\n",
      " 0.30771622 0.30423039 0.30048475 0.29633939 0.29197651 0.28769717\n",
      " 0.28376114 0.28030583 0.27733952 0.27478078]\n",
      "25 day output [[0.27251226]]\n",
      "26 day input [0.67844393 0.64388962 0.6378341  0.61404633 0.61665862 0.61929497\n",
      " 0.61795439 0.6315263  0.64953    0.62938522 0.63692548 0.63807848\n",
      " 0.6371359  0.62432473 0.62618086 0.61681275 0.6010251  0.53835732\n",
      " 0.51718068 0.53567866 0.54128083 0.5457278  0.54421594 0.54846165\n",
      " 0.55804927 0.56330012 0.5600269  0.56841886 0.57227927 0.54571267\n",
      " 0.54870453 0.61320009 0.61231402 0.62672696 0.64791524 0.65204294\n",
      " 0.6553128  0.64383189 0.62666024 0.62423448 0.62353773 0.62931618\n",
      " 0.65882089 0.64971932 0.59891189 0.59138785 0.5927409  0.56765098\n",
      " 0.54752747 0.56549407 0.55081124 0.56618531 0.57926776 0.57764923\n",
      " 0.55694305 0.63831348 0.65554785 0.64915925 0.62731096 0.57813087\n",
      " 0.58203331 0.56748189 0.56217024 0.57219018 0.62035337 0.58258051\n",
      " 0.57304645 0.57466451 0.55901875 0.58598305 0.58111623 0.60790327\n",
      " 0.60504596 0.61619345 0.5775125  0.51376349 0.45272541 0.4123309\n",
      " 0.39548242 0.39366657 0.39565554 0.39347792 0.38425267 0.36938047\n",
      " 0.35245287 0.33700559 0.32507166 0.31690797 0.31156889 0.30771622\n",
      " 0.30423039 0.30048475 0.29633939 0.29197651 0.28769717 0.28376114\n",
      " 0.28030583 0.27733952 0.27478078 0.27251226]\n",
      "26 day output [[0.27042538]]\n",
      "27 day input [0.64388962 0.6378341  0.61404633 0.61665862 0.61929497 0.61795439\n",
      " 0.6315263  0.64953    0.62938522 0.63692548 0.63807848 0.6371359\n",
      " 0.62432473 0.62618086 0.61681275 0.6010251  0.53835732 0.51718068\n",
      " 0.53567866 0.54128083 0.5457278  0.54421594 0.54846165 0.55804927\n",
      " 0.56330012 0.5600269  0.56841886 0.57227927 0.54571267 0.54870453\n",
      " 0.61320009 0.61231402 0.62672696 0.64791524 0.65204294 0.6553128\n",
      " 0.64383189 0.62666024 0.62423448 0.62353773 0.62931618 0.65882089\n",
      " 0.64971932 0.59891189 0.59138785 0.5927409  0.56765098 0.54752747\n",
      " 0.56549407 0.55081124 0.56618531 0.57926776 0.57764923 0.55694305\n",
      " 0.63831348 0.65554785 0.64915925 0.62731096 0.57813087 0.58203331\n",
      " 0.56748189 0.56217024 0.57219018 0.62035337 0.58258051 0.57304645\n",
      " 0.57466451 0.55901875 0.58598305 0.58111623 0.60790327 0.60504596\n",
      " 0.61619345 0.5775125  0.51376349 0.45272541 0.4123309  0.39548242\n",
      " 0.39366657 0.39565554 0.39347792 0.38425267 0.36938047 0.35245287\n",
      " 0.33700559 0.32507166 0.31690797 0.31156889 0.30771622 0.30423039\n",
      " 0.30048475 0.29633939 0.29197651 0.28769717 0.28376114 0.28030583\n",
      " 0.27733952 0.27478078 0.27251226 0.27042538]\n",
      "27 day output [[0.26844507]]\n",
      "28 day input [0.6378341  0.61404633 0.61665862 0.61929497 0.61795439 0.6315263\n",
      " 0.64953    0.62938522 0.63692548 0.63807848 0.6371359  0.62432473\n",
      " 0.62618086 0.61681275 0.6010251  0.53835732 0.51718068 0.53567866\n",
      " 0.54128083 0.5457278  0.54421594 0.54846165 0.55804927 0.56330012\n",
      " 0.5600269  0.56841886 0.57227927 0.54571267 0.54870453 0.61320009\n",
      " 0.61231402 0.62672696 0.64791524 0.65204294 0.6553128  0.64383189\n",
      " 0.62666024 0.62423448 0.62353773 0.62931618 0.65882089 0.64971932\n",
      " 0.59891189 0.59138785 0.5927409  0.56765098 0.54752747 0.56549407\n",
      " 0.55081124 0.56618531 0.57926776 0.57764923 0.55694305 0.63831348\n",
      " 0.65554785 0.64915925 0.62731096 0.57813087 0.58203331 0.56748189\n",
      " 0.56217024 0.57219018 0.62035337 0.58258051 0.57304645 0.57466451\n",
      " 0.55901875 0.58598305 0.58111623 0.60790327 0.60504596 0.61619345\n",
      " 0.5775125  0.51376349 0.45272541 0.4123309  0.39548242 0.39366657\n",
      " 0.39565554 0.39347792 0.38425267 0.36938047 0.35245287 0.33700559\n",
      " 0.32507166 0.31690797 0.31156889 0.30771622 0.30423039 0.30048475\n",
      " 0.29633939 0.29197651 0.28769717 0.28376114 0.28030583 0.27733952\n",
      " 0.27478078 0.27251226 0.27042538 0.26844507]\n",
      "28 day output [[0.26653534]]\n",
      "29 day input [0.61404633 0.61665862 0.61929497 0.61795439 0.6315263  0.64953\n",
      " 0.62938522 0.63692548 0.63807848 0.6371359  0.62432473 0.62618086\n",
      " 0.61681275 0.6010251  0.53835732 0.51718068 0.53567866 0.54128083\n",
      " 0.5457278  0.54421594 0.54846165 0.55804927 0.56330012 0.5600269\n",
      " 0.56841886 0.57227927 0.54571267 0.54870453 0.61320009 0.61231402\n",
      " 0.62672696 0.64791524 0.65204294 0.6553128  0.64383189 0.62666024\n",
      " 0.62423448 0.62353773 0.62931618 0.65882089 0.64971932 0.59891189\n",
      " 0.59138785 0.5927409  0.56765098 0.54752747 0.56549407 0.55081124\n",
      " 0.56618531 0.57926776 0.57764923 0.55694305 0.63831348 0.65554785\n",
      " 0.64915925 0.62731096 0.57813087 0.58203331 0.56748189 0.56217024\n",
      " 0.57219018 0.62035337 0.58258051 0.57304645 0.57466451 0.55901875\n",
      " 0.58598305 0.58111623 0.60790327 0.60504596 0.61619345 0.5775125\n",
      " 0.51376349 0.45272541 0.4123309  0.39548242 0.39366657 0.39565554\n",
      " 0.39347792 0.38425267 0.36938047 0.35245287 0.33700559 0.32507166\n",
      " 0.31690797 0.31156889 0.30771622 0.30423039 0.30048475 0.29633939\n",
      " 0.29197651 0.28769717 0.28376114 0.28030583 0.27733952 0.27478078\n",
      " 0.27251226 0.27042538 0.26844507 0.26653534]\n",
      "29 day output [[0.26469094]]\n",
      "[[0.5775125026702881], [0.5137634873390198], [0.4527254104614258], [0.41233089566230774], [0.3954824209213257], [0.3936665654182434], [0.3956555426120758], [0.3934779167175293], [0.384252667427063], [0.36938047409057617], [0.3524528741836548], [0.3370055854320526], [0.32507166266441345], [0.31690797209739685], [0.31156888604164124], [0.3077162206172943], [0.30423039197921753], [0.3004847466945648], [0.29633939266204834], [0.2919765114784241], [0.2876971662044525], [0.2837611436843872], [0.2803058326244354], [0.27733951807022095], [0.2747807800769806], [0.2725122570991516], [0.27042537927627563], [0.26844507455825806], [0.26653534173965454], [0.26469093561172485]]\n"
     ]
    }
   ],
   "source": [
    "# demonstrate prediction for next 10 days\n",
    "from numpy import array\n",
    "\n",
    "lst_output=[]\n",
    "n_steps=100\n",
    "i=0\n",
    "while(i<30):\n",
    "    \n",
    "    if(len(temp_input)>100):\n",
    "        #print(temp_input)\n",
    "        x_input=np.array(temp_input[1:])\n",
    "        print(\"{} day input {}\".format(i,x_input))\n",
    "        x_input=x_input.reshape(1,-1)\n",
    "        x_input = x_input.reshape((1, n_steps, 1))\n",
    "        #print(x_input)\n",
    "        yhat = model.predict(x_input, verbose=0)\n",
    "        print(\"{} day output {}\".format(i,yhat))\n",
    "        temp_input.extend(yhat[0].tolist())\n",
    "        temp_input=temp_input[1:]\n",
    "        #print(temp_input)\n",
    "        lst_output.extend(yhat.tolist())\n",
    "        i=i+1\n",
    "    else:\n",
    "        x_input = x_input.reshape((1, n_steps,1))\n",
    "        yhat = model.predict(x_input, verbose=0)\n",
    "        print(yhat[0])\n",
    "        temp_input.extend(yhat[0].tolist())\n",
    "        print(len(temp_input))\n",
    "        lst_output.extend(yhat.tolist())\n",
    "        i=i+1\n",
    "    \n",
    "\n",
    "print(lst_output)"
   ]
  },
  {
   "cell_type": "code",
   "execution_count": 43,
   "metadata": {},
   "outputs": [],
   "source": [
    "day_new=np.arange(1,101)\n",
    "day_pred=np.arange(101,131)"
   ]
  },
  {
   "cell_type": "code",
   "execution_count": 44,
   "metadata": {},
   "outputs": [],
   "source": [
    "import matplotlib.pyplot as plt"
   ]
  },
  {
   "cell_type": "code",
   "execution_count": 47,
   "metadata": {},
   "outputs": [
    {
     "data": {
      "text/plain": [
       "[<matplotlib.lines.Line2D at 0x1b3d93eac88>]"
      ]
     },
     "execution_count": 47,
     "metadata": {},
     "output_type": "execute_result"
    },
    {
     "data": {
      "image/png": "[encoded data removed]",
      "text/plain": [
       "<Figure size 432x288 with 1 Axes>"
      ]
     },
     "metadata": {
      "needs_background": "light"
     },
     "output_type": "display_data"
    }
   ],
   "source": [
    "len(df1)\n",
    "plt.plot(day_new,scaler.inverse_transform(df1[2640:]))\n",
    "plt.plot(day_pred,scaler.inverse_transform(lst_output))"
   ]
  },
  {
   "cell_type": "code",
   "execution_count": 48,
   "metadata": {},
   "outputs": [
    {
     "data": {
      "text/plain": [
       "[<matplotlib.lines.Line2D at 0x1b3d9438828>]"
      ]
     },
     "execution_count": 48,
     "metadata": {},
     "output_type": "execute_result"
    },
    {
     "data": {
      "image/png": "[encoded data removed]",
      "text/plain": [
       "<Figure size 432x288 with 1 Axes>"
      ]
     },
     "metadata": {
      "needs_background": "light"
     },
     "output_type": "display_data"
    }
   ],
   "source": [
    "df3=df1.tolist()\n",
    "df3.extend(lst_output)\n",
    "plt.plot(df3[1200:])"
   ]
  },
  {
   "cell_type": "code",
   "execution_count": 49,
   "metadata": {},
   "outputs": [],
   "source": [
    "df3=scaler.inverse_transform(df3).tolist()"
   ]
  },
  {
   "cell_type": "code",
   "execution_count": 50,
   "metadata": {},
   "outputs": [
    {
     "data": {
      "text/plain": [
       "[<matplotlib.lines.Line2D at 0x1b3d9669d68>]"
      ]
     },
     "execution_count": 50,
     "metadata": {},
     "output_type": "execute_result"
    },
    {
     "data": {
      "image/png": "[encoded data removed]",
      "text/plain": [
       "<Figure size 432x288 with 1 Axes>"
      ]
     },
     "metadata": {
      "needs_background": "light"
     },
     "output_type": "display_data"
    }
   ],
   "source": [
    "plt.plot(df3)"
   ]
  },
  {
   "cell_type": "code",
   "execution_count": null,
   "metadata": {},
   "outputs": [],
   "source": []
  }
 ],
 "metadata": {
  "interpreter": {
   "hash": "c9ad9e1255f51cd294ef145c3e7cef30b1cf9c1c66c47c1338492274d4476b1e"
  },
  "kernelspec": {
   "display_name": "Python 3.7.0 ('alphaenv': venv)",
   "language": "python",
   "name": "python3"
  },
  "language_info": {
   "codemirror_mode": {
    "name": "ipython",
    "version": 3
   },
   "file_extension": ".py",
   "mimetype": "text/x-python",
   "name": "python",
   "nbconvert_exporter": "python",
   "pygments_lexer": "ipython3",
   "version": "3.7.0"
  },
  "orig_nbformat": 4
 },
 "nbformat": 4,
 "nbformat_minor": 2
}
